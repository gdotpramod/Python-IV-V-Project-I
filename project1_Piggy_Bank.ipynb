{
 "cells": [
  {
   "cell_type": "code",
   "execution_count": 3,
   "metadata": {},
   "outputs": [
    {
     "name": "stdout",
     "output_type": "stream",
     "text": [
      "Hello, Welcome to Brookfield School Piggy Bank\n",
      "\n",
      "Please begin with creating an account\n",
      "Enter your Name: Johnny Quid\n",
      "Enter your Class: Arts\n",
      "Enter your Section: B\n",
      "Please enter a 4 digit pin to use as your passcode: 3143\n"
     ]
    }
   ],
   "source": [
    "print(\"Hello, Welcome to Brookfield School Piggy Bank\")\n",
    "print(\"\")\n",
    "print(\"Please begin with creating an account\")\n",
    "Name=input(\"Enter your Name: \")\n",
    "Class=input(\"Enter your Class: \")\n",
    "Section=input(\"Enter your Section: \")\n",
    "Passcode=input(\"Please enter a 4 digit pin to use as your passcode: \")"
   ]
  },
  {
   "cell_type": "code",
   "execution_count": 4,
   "metadata": {},
   "outputs": [
    {
     "name": "stdout",
     "output_type": "stream",
     "text": [
      "\n",
      "Your account summary is:\n",
      "Name:Johnny Quid\n",
      "Class:Arts\n",
      "Section:B\n",
      "Passcode:3143\n",
      "\n",
      "Enter an amount to deposit into the account: 10000\n",
      "\n",
      "Johnny Quid , Thank you for your deposit to your account.\n"
     ]
    }
   ],
   "source": [
    "print()\n",
    "print(\"Your account summary is:\")\n",
    "print(\"Name:\" + Name)\n",
    "print(\"Class:\" + Class)     \n",
    "print(\"Section:\" + Section)\n",
    "print(\"Passcode:\" + Passcode)    \n",
    "print()\n",
    "balance=float(input(\"Enter an amount to deposit into the account: \"))\n",
    "print()\n",
    "print(Name,\", Thank you for your deposit to your account.\")\n",
    "def printMenu():\n",
    "    print()\n",
    "    print(\"Please choose an option below:\")\n",
    "    print(\"\"\"\n",
    "    Enter c to Check your Balance\n",
    "    Enter d to Deposit money into your Account\n",
    "    Enter w to Withdraw money from your Account\n",
    "    Enter q to Quit the Program \"\"\")\n",
    "    print(\"\")\n",
    "\n",
    "def getTransaction():\n",
    "    transaction=str(input(\"What would you like to do? \"))\n",
    "    return transaction\n",
    "def withdraw(bal,amt):\n",
    "    global balance\n",
    "    balance=bal-amt\n",
    "    if balance<0:\n",
    "        balance=balance-10\n",
    "\n",
    "def formatCurrency(amt):\n",
    "    return \"$%.2f\" %amt"
   ]
  },
  {
   "cell_type": "code",
   "execution_count": 7,
   "metadata": {},
   "outputs": [
    {
     "name": "stdout",
     "output_type": "stream",
     "text": [
      "\n",
      "Please choose an option below:\n",
      "\n",
      "    Enter c to Check your Balance\n",
      "    Enter d to Deposit money into your Account\n",
      "    Enter w to Withdraw money from your Account\n",
      "    Enter q to Quit the Program \n",
      "\n",
      "What would you like to do? c\n",
      "Johnny Quid Your current balance is $10010.00\n",
      "\n",
      "Please choose an option below:\n",
      "\n",
      "    Enter c to Check your Balance\n",
      "    Enter d to Deposit money into your Account\n",
      "    Enter w to Withdraw money from your Account\n",
      "    Enter q to Quit the Program \n",
      "\n",
      "What would you like to do? w\n",
      "Amount to withdraw? 10\n",
      "\n",
      "Please choose an option below:\n",
      "\n",
      "    Enter c to Check your Balance\n",
      "    Enter d to Deposit money into your Account\n",
      "    Enter w to Withdraw money from your Account\n",
      "    Enter q to Quit the Program \n",
      "\n",
      "What would you like to do? c\n",
      "Johnny Quid Your current balance is $10000.00\n",
      "\n",
      "Please choose an option below:\n",
      "\n",
      "    Enter c to Check your Balance\n",
      "    Enter d to Deposit money into your Account\n",
      "    Enter w to Withdraw money from your Account\n",
      "    Enter q to Quit the Program \n",
      "\n",
      "What would you like to do? q\n",
      "Johnny Quid Goodbye! See you again soon\n"
     ]
    }
   ],
   "source": [
    "printMenu()\n",
    "command=str(getTransaction())\n",
    "\n",
    "while command!=\"q\":\n",
    "    if (command==\"c\"):\n",
    "        print(Name,\"Your current balance is\",formatCurrency(balance))\n",
    "        printMenu()\n",
    "        command=str(getTransaction())\n",
    "    elif (command==\"d\"):\n",
    "        amount=float(input(\"Amount to deposit? \"))\n",
    "        balance=balance+amount\n",
    "        printMenu()\n",
    "        command=str(getTransaction())\n",
    "    elif (command==\"w\"):\n",
    "        amount=float(input(\"Amount to withdraw? \"))\n",
    "        withdraw(balance,amount)\n",
    "        printMenu()\n",
    "        command=str(getTransaction())\n",
    "    else:\n",
    "        print(\"Incorrect command. Please try again.\")\n",
    "        printMenu()\n",
    "        command=str(getTransaction())\n",
    "        \n",
    "print(Name,\"Goodbye! See you again soon\")"
   ]
  },
  {
   "cell_type": "code",
   "execution_count": null,
   "metadata": {},
   "outputs": [],
   "source": []
  },
  {
   "cell_type": "code",
   "execution_count": null,
   "metadata": {},
   "outputs": [],
   "source": []
  },
  {
   "cell_type": "code",
   "execution_count": null,
   "metadata": {},
   "outputs": [],
   "source": []
  }
 ],
 "metadata": {
  "kernelspec": {
   "display_name": "Python 3",
   "language": "python",
   "name": "python3"
  },
  "language_info": {
   "codemirror_mode": {
    "name": "ipython",
    "version": 3
   },
   "file_extension": ".py",
   "mimetype": "text/x-python",
   "name": "python",
   "nbconvert_exporter": "python",
   "pygments_lexer": "ipython3",
   "version": "3.7.0"
  }
 },
 "nbformat": 4,
 "nbformat_minor": 2
}
